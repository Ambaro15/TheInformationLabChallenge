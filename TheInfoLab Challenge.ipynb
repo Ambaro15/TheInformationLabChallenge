{
 "cells": [
  {
   "cell_type": "code",
   "execution_count": 22,
   "id": "2b62fd4f",
   "metadata": {},
   "outputs": [
    {
     "name": "stdout",
     "output_type": "stream",
     "text": [
      "A =  3 ; C =  15\n",
      "A =  4 ; C =  24\n",
      "A =  7 ; C =  35\n",
      "A =  7 ; C =  14\n",
      "A =  1 ; C =  7\n",
      "A =  1 ; C =  1\n",
      "A =  9 ; C =  36\n",
      "A =  4 ; C =  12\n",
      "A =  5 ; C =  10\n",
      "A =  5 ; C =  30\n",
      "A =  1 ; C =  4\n",
      "Success!\n"
     ]
    }
   ],
   "source": [
    "import random\n",
    "\n",
    "def challenge():\n",
    "    while True:       \n",
    "        A = random.randint(1,9)\n",
    "        B = random.randint(1,9)\n",
    "        C = A*B\n",
    "        print (\"A = \", A ,\"; C = \", C)\n",
    "        \n",
    "        if C == 4:\n",
    "            print(\"Success!\")\n",
    "            break\n",
    "challenge()"
   ]
  },
  {
   "cell_type": "code",
   "execution_count": null,
   "id": "b2e56dc0",
   "metadata": {},
   "outputs": [],
   "source": []
  },
  {
   "cell_type": "code",
   "execution_count": null,
   "id": "761760e7",
   "metadata": {},
   "outputs": [],
   "source": []
  }
 ],
 "metadata": {
  "kernelspec": {
   "display_name": "Python 3 (ipykernel)",
   "language": "python",
   "name": "python3"
  },
  "language_info": {
   "codemirror_mode": {
    "name": "ipython",
    "version": 3
   },
   "file_extension": ".py",
   "mimetype": "text/x-python",
   "name": "python",
   "nbconvert_exporter": "python",
   "pygments_lexer": "ipython3",
   "version": "3.9.12"
  }
 },
 "nbformat": 4,
 "nbformat_minor": 5
}
